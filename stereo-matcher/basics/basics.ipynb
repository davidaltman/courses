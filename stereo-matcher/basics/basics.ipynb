{
  "nbformat": 4,
  "nbformat_minor": 5,
  "metadata": {
    "kernelspec": {
      "display_name": "Python 3",
      "language": "python",
      "name": "python3"
    },
    "language_info": {
      "codemirror_mode": {
        "name": "ipython",
        "version": 3
      },
      "file_extension": ".py",
      "mimetype": "text/x-python",
      "name": "python",
      "nbconvert_exporter": "python",
      "pygments_lexer": "ipython3",
      "version": "3.8.2"
    },
    "colab": {
      "name": "basics.ipynb",
      "provenance": []
    }
  },
  "cells": [
    {
      "cell_type": "markdown",
      "metadata": {
        "id": "complimentary-passing"
      },
      "source": [
        "# Basics\n"
      ],
      "id": "complimentary-passing"
    },
    {
      "cell_type": "markdown",
      "metadata": {
        "id": "smaller-syndication"
      },
      "source": [
        "### Quick install instructions\n",
        "The quick version is basically just\n",
        "1. `!pip install labelbox`\n",
        "2. `export LABELBOX_API_KEY=\"<your_api_key>\"`\n",
        "* Get this from the UI under (Account -> API -> Create API Key)\n",
        "* You can also set the api_key below in the notebook.\n",
        "\n",
        "This only works for cloud deployments.\n",
        "* For more details : https://docs.labelbox.com/python-sdk/en/index-en#labelbox-python-sdk\n"
      ],
      "id": "smaller-syndication"
    },
    {
      "cell_type": "markdown",
      "metadata": {
        "id": "cheap-damages"
      },
      "source": [
        "#### The remainder of this notebook is an interactive version of the fundamental concepts docs.\n",
        "* For more details you can read the docs here: \n",
        "    *    https://docs.labelbox.com/python-sdk/en/index-en#fundamental-concepts"
      ],
      "id": "cheap-damages"
    },
    {
      "cell_type": "code",
      "metadata": {
        "colab": {
          "base_uri": "https://localhost:8080/"
        },
        "id": "indie-bracket",
        "outputId": "4527d3f6-a486-4c59-edf4-c3385494184d"
      },
      "source": [
        "!pip install labelbox"
      ],
      "id": "indie-bracket",
      "execution_count": 2,
      "outputs": [
        {
          "output_type": "stream",
          "text": [
            "Collecting labelbox\n",
            "\u001b[?25l  Downloading https://files.pythonhosted.org/packages/25/b2/806cd8c9810878c2be8eb3620766a900d7e4ae69cb8cd0e530beb4eadf46/labelbox-2.5.6-py3-none-any.whl (66kB)\n",
            "\r\u001b[K     |█████                           | 10kB 14.1MB/s eta 0:00:01\r\u001b[K     |█████████▉                      | 20kB 19.9MB/s eta 0:00:01\r\u001b[K     |██████████████▉                 | 30kB 24.1MB/s eta 0:00:01\r\u001b[K     |███████████████████▊            | 40kB 23.6MB/s eta 0:00:01\r\u001b[K     |████████████████████████▊       | 51kB 16.4MB/s eta 0:00:01\r\u001b[K     |█████████████████████████████▋  | 61kB 13.4MB/s eta 0:00:01\r\u001b[K     |████████████████████████████████| 71kB 5.7MB/s \n",
            "\u001b[?25hRequirement already satisfied: google-api-core>=1.22.1 in /usr/local/lib/python3.7/dist-packages (from labelbox) (1.26.3)\n",
            "Collecting pydantic==1.8\n",
            "\u001b[?25l  Downloading https://files.pythonhosted.org/packages/f9/07/77e97d3e7bb9ffa1ac2d4fcbf010ed08d50e09c153d92a9f94f12bb93f99/pydantic-1.8-cp37-cp37m-manylinux2014_x86_64.whl (10.0MB)\n",
            "\u001b[K     |████████████████████████████████| 10.0MB 13.4MB/s \n",
            "\u001b[?25hRequirement already satisfied: requests>=2.22.0 in /usr/local/lib/python3.7/dist-packages (from labelbox) (2.23.0)\n",
            "Collecting backoff==1.10.0\n",
            "  Downloading https://files.pythonhosted.org/packages/f0/32/c5dd4f4b0746e9ec05ace2a5045c1fc375ae67ee94355344ad6c7005fd87/backoff-1.10.0-py2.py3-none-any.whl\n",
            "Collecting ndjson==0.3.1\n",
            "  Downloading https://files.pythonhosted.org/packages/70/c9/04ba0056011ba96a58163ebfd666d8385300bd12da1afe661a5a147758d7/ndjson-0.3.1-py2.py3-none-any.whl\n",
            "Requirement already satisfied: pytz in /usr/local/lib/python3.7/dist-packages (from google-api-core>=1.22.1->labelbox) (2018.9)\n",
            "Requirement already satisfied: six>=1.13.0 in /usr/local/lib/python3.7/dist-packages (from google-api-core>=1.22.1->labelbox) (1.15.0)\n",
            "Requirement already satisfied: packaging>=14.3 in /usr/local/lib/python3.7/dist-packages (from google-api-core>=1.22.1->labelbox) (20.9)\n",
            "Requirement already satisfied: google-auth<2.0dev,>=1.21.1 in /usr/local/lib/python3.7/dist-packages (from google-api-core>=1.22.1->labelbox) (1.30.0)\n",
            "Requirement already satisfied: protobuf>=3.12.0 in /usr/local/lib/python3.7/dist-packages (from google-api-core>=1.22.1->labelbox) (3.12.4)\n",
            "Requirement already satisfied: googleapis-common-protos<2.0dev,>=1.6.0 in /usr/local/lib/python3.7/dist-packages (from google-api-core>=1.22.1->labelbox) (1.53.0)\n",
            "Requirement already satisfied: setuptools>=40.3.0 in /usr/local/lib/python3.7/dist-packages (from google-api-core>=1.22.1->labelbox) (57.0.0)\n",
            "Requirement already satisfied: typing-extensions>=3.7.4.3 in /usr/local/lib/python3.7/dist-packages (from pydantic==1.8->labelbox) (3.7.4.3)\n",
            "Requirement already satisfied: chardet<4,>=3.0.2 in /usr/local/lib/python3.7/dist-packages (from requests>=2.22.0->labelbox) (3.0.4)\n",
            "Requirement already satisfied: certifi>=2017.4.17 in /usr/local/lib/python3.7/dist-packages (from requests>=2.22.0->labelbox) (2020.12.5)\n",
            "Requirement already satisfied: idna<3,>=2.5 in /usr/local/lib/python3.7/dist-packages (from requests>=2.22.0->labelbox) (2.10)\n",
            "Requirement already satisfied: urllib3!=1.25.0,!=1.25.1,<1.26,>=1.21.1 in /usr/local/lib/python3.7/dist-packages (from requests>=2.22.0->labelbox) (1.24.3)\n",
            "Requirement already satisfied: pyparsing>=2.0.2 in /usr/local/lib/python3.7/dist-packages (from packaging>=14.3->google-api-core>=1.22.1->labelbox) (2.4.7)\n",
            "Requirement already satisfied: pyasn1-modules>=0.2.1 in /usr/local/lib/python3.7/dist-packages (from google-auth<2.0dev,>=1.21.1->google-api-core>=1.22.1->labelbox) (0.2.8)\n",
            "Requirement already satisfied: cachetools<5.0,>=2.0.0 in /usr/local/lib/python3.7/dist-packages (from google-auth<2.0dev,>=1.21.1->google-api-core>=1.22.1->labelbox) (4.2.2)\n",
            "Requirement already satisfied: rsa<5,>=3.1.4; python_version >= \"3.6\" in /usr/local/lib/python3.7/dist-packages (from google-auth<2.0dev,>=1.21.1->google-api-core>=1.22.1->labelbox) (4.7.2)\n",
            "Requirement already satisfied: pyasn1<0.5.0,>=0.4.6 in /usr/local/lib/python3.7/dist-packages (from pyasn1-modules>=0.2.1->google-auth<2.0dev,>=1.21.1->google-api-core>=1.22.1->labelbox) (0.4.8)\n",
            "Installing collected packages: pydantic, backoff, ndjson, labelbox\n",
            "Successfully installed backoff-1.10.0 labelbox-2.5.6 ndjson-0.3.1 pydantic-1.8\n"
          ],
          "name": "stdout"
        }
      ]
    },
    {
      "cell_type": "code",
      "metadata": {
        "id": "everyday-street"
      },
      "source": [
        "from labelbox import Project, Dataset, Client\n",
        "from getpass import getpass\n",
        "import os"
      ],
      "id": "everyday-street",
      "execution_count": 3,
      "outputs": []
    },
    {
      "cell_type": "code",
      "metadata": {
        "colab": {
          "base_uri": "https://localhost:8080/"
        },
        "id": "crude-receiver",
        "outputId": "c4c33f99-6cb5-4bd9-c6ed-f446d795facc"
      },
      "source": [
        "# If you don't want to give google access to drive you can skip this cell\n",
        "# and manually set `API_KEY` below.\n",
        "\n",
        "COLAB = \"google.colab\" in str(get_ipython())\n",
        "if COLAB:\n",
        "    !pip install colab-env -qU\n",
        "    from colab_env import envvar_handler\n",
        "    envvar_handler.envload()\n",
        "\n",
        "API_KEY = os.environ.get(\"LABELBOX_API_KEY\")\n",
        "if not os.environ.get(\"LABELBOX_API_KEY\"):\n",
        "    API_KEY = getpass(\"Please enter your labelbox api key\")\n",
        "    if COLAB:\n",
        "        envvar_handler.add_env(\"LABELBOX_API_KEY\", API_KEY)"
      ],
      "id": "crude-receiver",
      "execution_count": 4,
      "outputs": [
        {
          "output_type": "stream",
          "text": [
            "  Building wheel for colab-env (setup.py) ... \u001b[?25l\u001b[?25hdone\n",
            "Mounted at /content/gdrive\n",
            "Creating vars.env in your Google Drive!\n",
            "Please enter your labelbox api key··········\n"
          ],
          "name": "stdout"
        }
      ]
    },
    {
      "cell_type": "markdown",
      "metadata": {
        "id": "committed-matthew"
      },
      "source": [
        "### Main takeaways:\n",
        "* All interactions with labelbox happen through the client\n",
        "* all attributes that are labelbox.orm.Fields can be accessed via object.field_name\n",
        "* all attributes that are labelbox.orm.Relationships can be accessed via object.relationship()\n",
        "----\n",
        "* To use on your own data you need to plug in the following:\n",
        "1. Project and Dataset ids (go to the web ui and you can find these in the url)\n",
        "    * (https://app.labelbox.com/projects/<project_id>\n",
        "    * https://app.labelbox.com/dataset/<dataset_id>\n",
        "2. A project name and a dataset name\n",
        "    * Select any project names from here: https://app.labelbox.com/projects\n",
        "    * Select any dataset names from here: https://app.labelbox.com/data"
      ],
      "id": "committed-matthew"
    },
    {
      "cell_type": "code",
      "metadata": {
        "id": "instructional-reply"
      },
      "source": [
        "PROJECT_ID = \"ckk4q1viuc0w20704eh69u28h\"\n",
        "DATASET_ID = \"ckk4q1vjznyhu087203wlghfr\"\n",
        "PROJECT_NAME = \"Sample Project\"\n",
        "DATASET_NAME = \"Example Jellyfish Dataset\"\n",
        "# Only update this if you have an on-prem deployment\n",
        "ENDPOINT = \"https://api.labelbox.com/graphql\""
      ],
      "id": "instructional-reply",
      "execution_count": null,
      "outputs": []
    },
    {
      "cell_type": "markdown",
      "metadata": {
        "id": "chinese-playing"
      },
      "source": [
        "### Client\n",
        "* Starting point for all db interactions"
      ],
      "id": "chinese-playing"
    },
    {
      "cell_type": "code",
      "metadata": {
        "id": "thick-gasoline"
      },
      "source": [
        "client = Client(api_key=API_KEY, endpoint=ENDPOINT)"
      ],
      "id": "thick-gasoline",
      "execution_count": null,
      "outputs": []
    },
    {
      "cell_type": "code",
      "metadata": {
        "id": "victorian-consumer"
      },
      "source": [
        "#Client can be used to fetch by id:\n",
        "project = client.get_project(PROJECT_ID)\n",
        "dataset = client.get_dataset(DATASET_ID)"
      ],
      "id": "victorian-consumer",
      "execution_count": null,
      "outputs": []
    },
    {
      "cell_type": "code",
      "metadata": {
        "id": "industrial-onion",
        "outputId": "b36c2c50-7ea8-4a1f-9f9c-2481e1349b42"
      },
      "source": [
        "project"
      ],
      "id": "industrial-onion",
      "execution_count": null,
      "outputs": [
        {
          "output_type": "execute_result",
          "data": {
            "text/plain": [
              "<Project ID: ckk4q1viuc0w20704eh69u28h>"
            ]
          },
          "metadata": {
            "tags": []
          },
          "execution_count": 9
        }
      ]
    },
    {
      "cell_type": "markdown",
      "metadata": {
        "id": "popular-nylon"
      },
      "source": [
        "### Fields\n",
        "* All db objects have fields (look at the source code to see them https://github.com/Labelbox/labelbox-python/blob/develop/labelbox/schema/project.py)\n",
        "* These fields are attributes of the object"
      ],
      "id": "popular-nylon"
    },
    {
      "cell_type": "code",
      "metadata": {
        "id": "guided-institute",
        "outputId": "4f0d24b8-5f2b-44de-8cb2-6369ddff210c"
      },
      "source": [
        "print(project.name)\n",
        "print(project.description)\n",
        "print(dataset.name)"
      ],
      "id": "guided-institute",
      "execution_count": null,
      "outputs": [
        {
          "output_type": "stream",
          "text": [
            "Sample Project\n",
            "Demonstrating image segmentation and object detection\n",
            "Example Jellyfish Dataset\n"
          ],
          "name": "stdout"
        }
      ]
    },
    {
      "cell_type": "markdown",
      "metadata": {
        "id": "protective-multimedia"
      },
      "source": [
        "* Fields can be updated. This will be reflected server side (you will see it in labelbox) "
      ],
      "id": "protective-multimedia"
    },
    {
      "cell_type": "code",
      "metadata": {
        "id": "according-subdivision"
      },
      "source": [
        "project.update(description=\"new description field\")\n",
        "print(project.description)"
      ],
      "id": "according-subdivision",
      "execution_count": null,
      "outputs": []
    },
    {
      "cell_type": "markdown",
      "metadata": {
        "id": "viral-power"
      },
      "source": [
        "### Pagination\n",
        "* Queries that return a list of database objects return them as a PaginatedCollection\n",
        "* The goal here is to limit the data being returned to only the necessary data."
      ],
      "id": "viral-power"
    },
    {
      "cell_type": "code",
      "metadata": {
        "id": "ideal-processing",
        "outputId": "415f2cd6-aed6-4eb3-a5f4-c0e80020d2be"
      },
      "source": [
        "labels_paginated_collection = project.labels()\n",
        "labels_paginated_collection"
      ],
      "id": "ideal-processing",
      "execution_count": null,
      "outputs": [
        {
          "output_type": "execute_result",
          "data": {
            "text/plain": [
              "<labelbox.pagination.PaginatedCollection at 0x1110afe80>"
            ]
          },
          "metadata": {
            "tags": []
          },
          "execution_count": 17
        }
      ]
    },
    {
      "cell_type": "code",
      "metadata": {
        "id": "convinced-force"
      },
      "source": [
        "# Note that if you selected a `project_id` without any labels this will raise `StopIteration`\n",
        "# Iterate over them to get the items out.\n",
        "next(labels_paginated_collection)\n",
        "# list(paginated...) should be avoided for queries that could return more than a dozen results"
      ],
      "id": "convinced-force",
      "execution_count": null,
      "outputs": []
    },
    {
      "cell_type": "markdown",
      "metadata": {
        "id": "widespread-startup"
      },
      "source": [
        "### Query parameters\n",
        "* Query with the following conventions:\n",
        "    * `DbObject.Field`"
      ],
      "id": "widespread-startup"
    },
    {
      "cell_type": "code",
      "metadata": {
        "id": "cubic-joint",
        "outputId": "91446fbb-a596-429b-e8f1-3c8a057e32d9"
      },
      "source": [
        "datasets = client.get_datasets(where=Dataset.name == DATASET_NAME)\n",
        "\n",
        "projects = client.get_projects(\n",
        "    where=((Project.name == PROJECT_NAME) &\n",
        "           (Project.description == \"new description field\")))\n",
        "\n",
        "# The above two queries return PaginatedCollections because the filter parameters aren't guaranteed to be unique.\n",
        "# So even if there is one element returned it is in a paginatedCollection.\n",
        "print(projects)\n",
        "print(next(projects, None))\n",
        "print(next(projects, None))\n",
        "print(next(projects, None))\n",
        "# We can see there is only one."
      ],
      "id": "cubic-joint",
      "execution_count": null,
      "outputs": [
        {
          "output_type": "stream",
          "text": [
            "<labelbox.pagination.PaginatedCollection object at 0x114255640>\n",
            "<Project {'auto_audit_number_of_labels': 3, 'auto_audit_percentage': 0.1, 'created_at': datetime.datetime(2021, 1, 20, 1, 2, 31, tzinfo=datetime.timezone.utc), 'description': 'new description field', 'last_activity_time': datetime.datetime(2021, 3, 19, 13, 46, 50, 920000, tzinfo=datetime.timezone.utc), 'name': 'Sample Project', 'setup_complete': datetime.datetime(2021, 1, 20, 1, 2, 31, 152000, tzinfo=datetime.timezone.utc), 'uid': 'ckk4q1viuc0w20704eh69u28h', 'updated_at': datetime.datetime(2021, 3, 19, 13, 46, 50, 920000, tzinfo=datetime.timezone.utc)}>\n",
            "None\n",
            "None\n"
          ],
          "name": "stdout"
        }
      ]
    },
    {
      "cell_type": "markdown",
      "metadata": {
        "id": "french-toner"
      },
      "source": [
        "### Querying Limitations\n",
        "* The DbObject used for the query must be the same as the DbObject returned by the querying function.  \n",
        "* eg. is not valid since get_project returns a Project but we are filtering on a Dataset\n",
        ">  `>>> projects = client.get_projects(where = Dataset.name == \"dataset_name\")`\n"
      ],
      "id": "french-toner"
    },
    {
      "cell_type": "markdown",
      "metadata": {
        "id": "defensive-bidder"
      },
      "source": [
        "### Relationship\n",
        "* Relationships can be used to query for related objects (solves the limitation outlined above)\n",
        "    * E.g. if a user wants all projects that have a specific dataset attached, then can run the code below.\n",
        "* You can find all realtionships of a DB object in the source code\n",
        "    * E.g. for a Project ( https://github.com/Labelbox/labelbox-python/blob/develop/labelbox/schema/project.py))"
      ],
      "id": "defensive-bidder"
    },
    {
      "cell_type": "code",
      "metadata": {
        "id": "handmade-yugoslavia",
        "outputId": "3c0cdaab-1efd-402c-e50d-74bf469a2d81"
      },
      "source": [
        "# Dataset has a Relationship to a Project so we can use the following\n",
        "list(dataset.projects())\n",
        "# This will return all projects that are attached to this dataset"
      ],
      "id": "handmade-yugoslavia",
      "execution_count": null,
      "outputs": [
        {
          "output_type": "execute_result",
          "data": {
            "text/plain": [
              "[<Project ID: ckk4q1viuc0w107041siuht7p>]"
            ]
          },
          "metadata": {
            "tags": []
          },
          "execution_count": 31
        }
      ]
    },
    {
      "cell_type": "code",
      "metadata": {
        "id": "future-bargain",
        "outputId": "570df706-4224-4684-e978-482b20cbf64c"
      },
      "source": [
        "sample_project_datasets = project.datasets()\n",
        "list(sample_project_datasets)"
      ],
      "id": "future-bargain",
      "execution_count": null,
      "outputs": [
        {
          "output_type": "execute_result",
          "data": {
            "text/plain": [
              "[<Dataset ID: cklv1qzlv1oqn0y9ne7b9gtpb>]"
            ]
          },
          "metadata": {
            "tags": []
          },
          "execution_count": 32
        }
      ]
    },
    {
      "cell_type": "markdown",
      "metadata": {
        "id": "metric-speaker"
      },
      "source": [
        "### Delete\n",
        "* Most DBObjects support deletion"
      ],
      "id": "metric-speaker"
    },
    {
      "cell_type": "code",
      "metadata": {
        "id": "persistent-briefs"
      },
      "source": [
        "#Eg.\n",
        "##### project.delete()\n",
        "##### dataset.delete()\n",
        "##### data_row.delete()"
      ],
      "id": "persistent-briefs",
      "execution_count": null,
      "outputs": []
    },
    {
      "cell_type": "markdown",
      "metadata": {
        "id": "confused-peace"
      },
      "source": [
        "* We reccomend using bulk operations where possible.\n",
        "* You can find specific deletion instructions in tutorials on each object."
      ],
      "id": "confused-peace"
    },
    {
      "cell_type": "code",
      "metadata": {
        "id": "thirty-interval"
      },
      "source": [
        ""
      ],
      "id": "thirty-interval",
      "execution_count": null,
      "outputs": []
    }
  ]
}